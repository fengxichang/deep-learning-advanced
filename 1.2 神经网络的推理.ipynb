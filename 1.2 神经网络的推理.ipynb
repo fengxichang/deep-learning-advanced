{
 "cells": [
  {
   "cell_type": "code",
   "execution_count": 17,
   "id": "53c997c5",
   "metadata": {},
   "outputs": [
    {
     "name": "stdout",
     "output_type": "stream",
     "text": [
      "(10, 3)\n"
     ]
    }
   ],
   "source": [
    "import numpy as np\n",
    "\n",
    "def sigmoid(x):\n",
    "    return 1 / (1 + np.exp(-x))\n",
    "\n",
    "x = np.random.randn(10, 2)\n",
    "w1 = np.random.randn(2, 4)\n",
    "b1 = np.random.rand(4)\n",
    "\n",
    "w2 = np.random.randn(4, 3)\n",
    "b2 = np.random.randn(3)\n",
    "\n",
    "h1 = np.dot(x, w1) + b1\n",
    "a = sigmoid(h1)\n",
    "s = np.dot(a, w2) + b2\n",
    "\n",
    "print(s.shape)"
   ]
  },
  {
   "cell_type": "markdown",
   "id": "afb5f1a5",
   "metadata": {},
   "source": [
    "### 层的类化以及正向传播实现\n"
   ]
  },
  {
   "cell_type": "code",
   "execution_count": 18,
   "id": "562d9190",
   "metadata": {},
   "outputs": [],
   "source": [
    "# sigmoid层\n",
    "\n",
    "import numpy as np\n",
    "\n",
    "class Sigmoid:\n",
    "    def __init__(self):\n",
    "        self.params = []\n",
    "        \n",
    "    def forward(self, x):\n",
    "        return 1 / (1 + np.exp(-x))"
   ]
  },
  {
   "cell_type": "code",
   "execution_count": 19,
   "id": "135dc2ed",
   "metadata": {},
   "outputs": [],
   "source": [
    "# Affine仿射层\n",
    "\n",
    "import numpy as np\n",
    "\n",
    "class Affine:\n",
    "    def __init__(self, w, b):\n",
    "        self.params = [w, b]\n",
    "        \n",
    "    def forward(self, x):\n",
    "        w, b = self.params\n",
    "        return np.dot(x, w) + b"
   ]
  },
  {
   "cell_type": "code",
   "execution_count": 20,
   "id": "ad4ecb26",
   "metadata": {},
   "outputs": [],
   "source": [
    "# TowLayerNet\n",
    "\n",
    "class TwoLayerNet:\n",
    "    def __init__(self, inputSize, HiddenSize, outPutSize):\n",
    "        I, H, O = inputSize, HiddenSize, outPutSize\n",
    "        \n",
    "        w1 = np.random.randn(I, H)\n",
    "        b1 = np.random.randn(H)\n",
    "        \n",
    "        w2 = np.random.randn(H, O)\n",
    "        b2 = np.random.randn(O)\n",
    "        \n",
    "        self.layers = [\n",
    "            Affine(w1, b1),\n",
    "            Sigmoid(),\n",
    "            Affine(w2, b2)\n",
    "        ]\n",
    "        \n",
    "        self.params = []\n",
    "        for layer in self.params:\n",
    "            self.params += layer.params\n",
    "            \n",
    "    def predict(self, x):\n",
    "        for layer in self.layers:\n",
    "            x = layer.forward(x)\n",
    "        return x"
   ]
  },
  {
   "cell_type": "code",
   "execution_count": 25,
   "id": "940d4466",
   "metadata": {},
   "outputs": [
    {
     "data": {
      "text/plain": [
       "array([[ 0.00784241, -2.61534217,  0.33436765],\n",
       "       [ 0.02380226, -2.66682223, -0.02248763],\n",
       "       [-0.08276538, -2.99025094,  0.62419432],\n",
       "       [-0.17482491, -3.38594372,  0.63701575],\n",
       "       [-0.03693663, -3.0441845 , -0.61124462],\n",
       "       [-0.10126938, -3.09164085,  0.7274538 ],\n",
       "       [-0.03715445, -2.93347001,  0.01932278],\n",
       "       [-0.1777297 , -3.46987905,  0.30311283],\n",
       "       [-0.16241927, -3.50230064,  0.04605742],\n",
       "       [-0.03427362, -2.82499326,  0.7274603 ]])"
      ]
     },
     "execution_count": 25,
     "metadata": {},
     "output_type": "execute_result"
    }
   ],
   "source": [
    "x = np.random.randn(10, 2)\n",
    "model = TwoLayerNet(2, 4, 3)\n",
    "\n",
    "model.predict(x)\n"
   ]
  },
  {
   "cell_type": "code",
   "execution_count": null,
   "id": "974edcd0",
   "metadata": {},
   "outputs": [],
   "source": []
  }
 ],
 "metadata": {
  "kernelspec": {
   "display_name": "Python 3 (ipykernel)",
   "language": "python",
   "name": "python3"
  },
  "language_info": {
   "codemirror_mode": {
    "name": "ipython",
    "version": 3
   },
   "file_extension": ".py",
   "mimetype": "text/x-python",
   "name": "python",
   "nbconvert_exporter": "python",
   "pygments_lexer": "ipython3",
   "version": "3.9.0"
  }
 },
 "nbformat": 4,
 "nbformat_minor": 5
}
